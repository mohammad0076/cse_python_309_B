{
  "nbformat": 4,
  "nbformat_minor": 0,
  "metadata": {
    "colab": {
      "name": "class_lec5_loop_prac",
      "provenance": [],
      "collapsed_sections": [],
      "authorship_tag": "ABX9TyNgvEI2kyE4veJIFdBHC8EG",
      "include_colab_link": true
    },
    "kernelspec": {
      "name": "python3",
      "display_name": "Python 3"
    }
  },
  "cells": [
    {
      "cell_type": "markdown",
      "metadata": {
        "id": "view-in-github",
        "colab_type": "text"
      },
      "source": [
        "<a href=\"https://colab.research.google.com/github/mohammad0076/cse_python_309_B/blob/master/class_lec5_loop_prac.ipynb\" target=\"_parent\"><img src=\"https://colab.research.google.com/assets/colab-badge.svg\" alt=\"Open In Colab\"/></a>"
      ]
    },
    {
      "cell_type": "code",
      "metadata": {
        "id": "8QgBIXSxYrNZ",
        "colab_type": "code",
        "colab": {
          "base_uri": "https://localhost:8080/",
          "height": 34
        },
        "outputId": "7604e8b0-3b9f-4ddb-bfcd-1db3e435bf44"
      },
      "source": [
        "i=0\n",
        "sum=0\n",
        "while i<11:\n",
        "  if(i==10):\n",
        "\n",
        "    print(i,end='=')\n",
        "\n",
        "  else:\n",
        "    \n",
        "\n",
        "    print(i,end='+') \n",
        "  sum=sum+i\n",
        "  i=i+1\n",
        "\n",
        "print(sum)\n",
        "\n",
        " \n",
        " \n",
        "  "
      ],
      "execution_count": 10,
      "outputs": [
        {
          "output_type": "stream",
          "text": [
            "0+1+2+3+4+5+6+7+8+9+10=55\n"
          ],
          "name": "stdout"
        }
      ]
    },
    {
      "cell_type": "code",
      "metadata": {
        "id": "zZEHzX-QYu7K",
        "colab_type": "code",
        "colab": {
          "base_uri": "https://localhost:8080/",
          "height": 1000
        },
        "outputId": "b632f784-21cb-40a7-fdef-a9d47bd430c5"
      },
      "source": [
        "for i in range(1,101,1):\n",
        "\n",
        "  if(i==100):\n",
        "    print(i,end='=')\n",
        "\n",
        "  else:\n",
        "\n",
        "\n",
        "    print(i,end=' + ')\n",
        "\n",
        "  j=0\n",
        "  j=j+i\n",
        "  print(j)\n",
        "  \n",
        "\n"
      ],
      "execution_count": 24,
      "outputs": [
        {
          "output_type": "stream",
          "text": [
            "1 + 1\n",
            "2 + 2\n",
            "3 + 3\n",
            "4 + 4\n",
            "5 + 5\n",
            "6 + 6\n",
            "7 + 7\n",
            "8 + 8\n",
            "9 + 9\n",
            "10 + 10\n",
            "11 + 11\n",
            "12 + 12\n",
            "13 + 13\n",
            "14 + 14\n",
            "15 + 15\n",
            "16 + 16\n",
            "17 + 17\n",
            "18 + 18\n",
            "19 + 19\n",
            "20 + 20\n",
            "21 + 21\n",
            "22 + 22\n",
            "23 + 23\n",
            "24 + 24\n",
            "25 + 25\n",
            "26 + 26\n",
            "27 + 27\n",
            "28 + 28\n",
            "29 + 29\n",
            "30 + 30\n",
            "31 + 31\n",
            "32 + 32\n",
            "33 + 33\n",
            "34 + 34\n",
            "35 + 35\n",
            "36 + 36\n",
            "37 + 37\n",
            "38 + 38\n",
            "39 + 39\n",
            "40 + 40\n",
            "41 + 41\n",
            "42 + 42\n",
            "43 + 43\n",
            "44 + 44\n",
            "45 + 45\n",
            "46 + 46\n",
            "47 + 47\n",
            "48 + 48\n",
            "49 + 49\n",
            "50 + 50\n",
            "51 + 51\n",
            "52 + 52\n",
            "53 + 53\n",
            "54 + 54\n",
            "55 + 55\n",
            "56 + 56\n",
            "57 + 57\n",
            "58 + 58\n",
            "59 + 59\n",
            "60 + 60\n",
            "61 + 61\n",
            "62 + 62\n",
            "63 + 63\n",
            "64 + 64\n",
            "65 + 65\n",
            "66 + 66\n",
            "67 + 67\n",
            "68 + 68\n",
            "69 + 69\n",
            "70 + 70\n",
            "71 + 71\n",
            "72 + 72\n",
            "73 + 73\n",
            "74 + 74\n",
            "75 + 75\n",
            "76 + 76\n",
            "77 + 77\n",
            "78 + 78\n",
            "79 + 79\n",
            "80 + 80\n",
            "81 + 81\n",
            "82 + 82\n",
            "83 + 83\n",
            "84 + 84\n",
            "85 + 85\n",
            "86 + 86\n",
            "87 + 87\n",
            "88 + 88\n",
            "89 + 89\n",
            "90 + 90\n",
            "91 + 91\n",
            "92 + 92\n",
            "93 + 93\n",
            "94 + 94\n",
            "95 + 95\n",
            "96 + 96\n",
            "97 + 97\n",
            "98 + 98\n",
            "99 + 99\n",
            "100=100\n"
          ],
          "name": "stdout"
        }
      ]
    },
    {
      "cell_type": "code",
      "metadata": {
        "id": "5Zjt9W0PYu_y",
        "colab_type": "code",
        "colab": {
          "base_uri": "https://localhost:8080/",
          "height": 52
        },
        "outputId": "51a220c4-149d-4cc2-f4a6-91edf6bd986e"
      },
      "source": [
        "sum=0\n",
        "limit=int(input())\n",
        "for i in range(1,limit+1):\n",
        "\n",
        "  if i==limit:\n",
        "    print(i,end =' = ')\n",
        "\n",
        "  else:\n",
        "\n",
        "    print(i,end=' + ')\n",
        "\n",
        "  sum=sum+i\n",
        "print(sum)\n",
        "  "
      ],
      "execution_count": 58,
      "outputs": [
        {
          "output_type": "stream",
          "text": [
            "10\n",
            "1 + 2 + 3 + 4 + 5 + 6 + 7 + 8 + 9 + 10 = 55\n"
          ],
          "name": "stdout"
        }
      ]
    },
    {
      "cell_type": "code",
      "metadata": {
        "id": "xbxGXCkdYvE6",
        "colab_type": "code",
        "colab": {
          "base_uri": "https://localhost:8080/",
          "height": 212
        },
        "outputId": "38f5bf84-1d9d-412e-9199-c7d8d270070c"
      },
      "source": [
        "sum=0\n",
        "for i in range(11):\n",
        "  sum=sum+i\n",
        "  print(sum)"
      ],
      "execution_count": 38,
      "outputs": [
        {
          "output_type": "stream",
          "text": [
            "0\n",
            "1\n",
            "3\n",
            "6\n",
            "10\n",
            "15\n",
            "21\n",
            "28\n",
            "36\n",
            "45\n",
            "55\n"
          ],
          "name": "stdout"
        }
      ]
    },
    {
      "cell_type": "code",
      "metadata": {
        "id": "AYm_ez03YvQX",
        "colab_type": "code",
        "colab": {
          "base_uri": "https://localhost:8080/",
          "height": 52
        },
        "outputId": "dfccb818-52b9-4835-9895-371a281cac7f"
      },
      "source": [
        "sum=0\n",
        "limit=int(input())\n",
        "for i in range(1,limit+1,2):\n",
        "  if(i==limit-1):\n",
        "    print(i,end='=')\n",
        "  else: \n",
        "    print(i,end='+')\n",
        "\n",
        "\n",
        "  sum=sum+i\n",
        "print(sum)    "
      ],
      "execution_count": 75,
      "outputs": [
        {
          "output_type": "stream",
          "text": [
            "20\n",
            "1+3+5+7+9+11+13+15+17+19=100\n"
          ],
          "name": "stdout"
        }
      ]
    },
    {
      "cell_type": "code",
      "metadata": {
        "id": "aipfimGHqHLN",
        "colab_type": "code",
        "colab": {}
      },
      "source": [
        ""
      ],
      "execution_count": null,
      "outputs": []
    },
    {
      "cell_type": "code",
      "metadata": {
        "id": "YELR2ykRqHOn",
        "colab_type": "code",
        "colab": {}
      },
      "source": [
        "j = [1,3,4, 5]\n",
        "for i in l:\n",
        "  \n",
        "  type(i)"
      ],
      "execution_count": 91,
      "outputs": []
    },
    {
      "cell_type": "markdown",
      "metadata": {
        "id": "uTmnPsTasBps",
        "colab_type": "text"
      },
      "source": [
        ""
      ]
    },
    {
      "cell_type": "code",
      "metadata": {
        "id": "uylHG4g5YvdK",
        "colab_type": "code",
        "colab": {
          "base_uri": "https://localhost:8080/",
          "height": 87
        },
        "outputId": "012aff4b-4cb2-4178-bfc8-35cd4a082fbe"
      },
      "source": [
        "l=[5,5,71,4]\n",
        "i=0\n",
        "while i<len(l):\n",
        "  print(l[i])\n",
        "  i+=1"
      ],
      "execution_count": 95,
      "outputs": [
        {
          "output_type": "stream",
          "text": [
            "5\n",
            "5\n",
            "71\n",
            "4\n"
          ],
          "name": "stdout"
        }
      ]
    },
    {
      "cell_type": "code",
      "metadata": {
        "id": "m4-uVUibYvhS",
        "colab_type": "code",
        "colab": {
          "base_uri": "https://localhost:8080/",
          "height": 132
        },
        "outputId": "9f7bede1-c59a-4a20-82a6-7220c3a9121e"
      },
      "source": [
        "i=0,j=1,k=1"
      ],
      "execution_count": 96,
      "outputs": [
        {
          "output_type": "error",
          "ename": "SyntaxError",
          "evalue": "ignored",
          "traceback": [
            "\u001b[0;36m  File \u001b[0;32m\"<ipython-input-96-ff968afe7dd4>\"\u001b[0;36m, line \u001b[0;32m1\u001b[0m\n\u001b[0;31m    i=0,j=1,k=1\u001b[0m\n\u001b[0m     ^\u001b[0m\n\u001b[0;31mSyntaxError\u001b[0m\u001b[0;31m:\u001b[0m can't assign to literal\n"
          ]
        }
      ]
    },
    {
      "cell_type": "code",
      "metadata": {
        "id": "JPohWwUytObH",
        "colab_type": "code",
        "colab": {
          "base_uri": "https://localhost:8080/",
          "height": 34
        },
        "outputId": "f249a88f-a401-413a-dfb4-1d834bbd7b17"
      },
      "source": [
        "i,j,k=0,1,2\n",
        "print(i,j,k)"
      ],
      "execution_count": 97,
      "outputs": [
        {
          "output_type": "stream",
          "text": [
            "0 1 2\n"
          ],
          "name": "stdout"
        }
      ]
    },
    {
      "cell_type": "code",
      "metadata": {
        "id": "vBgWFaIHtOlk",
        "colab_type": "code",
        "colab": {}
      },
      "source": [
        ""
      ],
      "execution_count": null,
      "outputs": []
    }
  ]
}