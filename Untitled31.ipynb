{
  "nbformat": 4,
  "nbformat_minor": 0,
  "metadata": {
    "colab": {
      "name": "Untitled31.ipynb",
      "provenance": [],
      "authorship_tag": "ABX9TyP0utuQZZvr6N466PJLvltb",
      "include_colab_link": true
    },
    "kernelspec": {
      "name": "python3",
      "display_name": "Python 3"
    },
    "language_info": {
      "name": "python"
    }
  },
  "cells": [
    {
      "cell_type": "markdown",
      "metadata": {
        "id": "view-in-github",
        "colab_type": "text"
      },
      "source": [
        "<a href=\"https://colab.research.google.com/github/mohammad0076/cse_python_309_B/blob/master/Untitled31.ipynb\" target=\"_parent\"><img src=\"https://colab.research.google.com/assets/colab-badge.svg\" alt=\"Open In Colab\"/></a>"
      ]
    },
    {
      "cell_type": "code",
      "metadata": {
        "id": "8op5WQYrVe4b"
      },
      "source": [
        " class EVOi:\n",
        "        def __init__(self, id):\n",
        "            self.id = id\n",
        "            print('submit the id ',id)\n",
        "\n",
        "\n",
        "    "
      ],
      "execution_count": 2,
      "outputs": []
    },
    {
      "cell_type": "code",
      "metadata": {
        "id": "LRMeTG2YVu29"
      },
      "source": [
        "class passw(EVOi):\n",
        "        def __init__(self):\n",
        "            print('submit pass')\n",
        "\n",
        "        def pas(self, pa):\n",
        "            print('', pa)\n",
        "\n",
        "\n",
        "    \n",
        "\n",
        "\n",
        "\n",
        "\n",
        "   "
      ],
      "execution_count": 4,
      "outputs": []
    },
    {
      "cell_type": "code",
      "metadata": {
        "id": "zmCJ_l3CV1ws"
      },
      "source": [
        "class rando(EVOi):\n",
        "        def __init__(self):\n",
        "            print('submit random num')\n",
        "\n",
        "        def ran(self, random):\n",
        "            print('', random)\n",
        "   "
      ],
      "execution_count": 5,
      "outputs": []
    },
    {
      "cell_type": "code",
      "metadata": {
        "id": "rysdfuIEV4PC"
      },
      "source": [
        " class park_address(EVOi):\n",
        "        def __init__(self):\n",
        "            print('submit the address of park')\n",
        "\n",
        "        def park(self,parking_address):\n",
        "            print(\"\",parking_address)"
      ],
      "execution_count": 6,
      "outputs": []
    },
    {
      "cell_type": "code",
      "metadata": {
        "colab": {
          "base_uri": "https://localhost:8080/"
        },
        "id": "-h6qTizCV6RO",
        "outputId": "b405f33b-feeb-446b-ff5e-dc0cd4b2f0a4"
      },
      "source": [
        "a = passw()\n",
        "b = rando()\n",
        "ri =8992 #random num\n",
        "passworduser =9234 #password from evoi\n",
        "d = a.pas(ri)\n",
        "n = b.ran(passworduser)\n"
      ],
      "execution_count": 8,
      "outputs": [
        {
          "output_type": "stream",
          "text": [
            "submit pass\n",
            "submit random num\n",
            " 8992\n",
            " 9234\n"
          ],
          "name": "stdout"
        }
      ]
    },
    {
      "cell_type": "code",
      "metadata": {
        "colab": {
          "base_uri": "https://localhost:8080/"
        },
        "id": "2r4XMd4dWM7-",
        "outputId": "76cbf576-e918-4533-f926-aae40745c4e8"
      },
      "source": [
        "    compute = ri | passworduser\n",
        "    com_ranadom_password = hash(compute) #spwi\n",
        "    print(\"computes pass and random\",com_ranadom_password)\n",
        "    id = 1\n",
        "    g = EVOi(id)\n",
        "    h = park_address()\n",
        "    fpa=1213\n",
        "    k= h.park(fpa)\n",
        "\n",
        "    compute2 = ri | id\n",
        "    pid = hash(compute2)\n",
        "    print(\"compute pid \", pid)\n"
      ],
      "execution_count": 9,
      "outputs": [
        {
          "output_type": "stream",
          "text": [
            "computes pass and random 10034\n",
            "submit the id  1\n",
            "submit the address of park\n",
            " 1213\n",
            "compute pid  8993\n"
          ],
          "name": "stdout"
        }
      ]
    },
    {
      "cell_type": "code",
      "metadata": {
        "colab": {
          "base_uri": "https://localhost:8080/"
        },
        "id": "KmpXD0LVWbDn",
        "outputId": "6cc8d51b-75c7-4557-cf09-3af07933a21f"
      },
      "source": [
        "    reg = [com_ranadom_password,pid,id,fpa]\n",
        "    print(\"here is the registration process\",reg)\n",
        "\n",
        "\n",
        "    xi = 1111 #secret for evoi\n",
        "    store = [pid,id,fpa,xi]\n",
        "    print('ttp sotres data',store)\n",
        "    xa=1222 #long time secret of agt\n",
        "    cpmpute3= pid | xa\n",
        "    pi =hash(cpmpute3)\n",
        "    print('new compute',pi)\n",
        "    compute4 = com_ranadom_password | xi\n",
        "    si = hash (compute4)\n",
        "    print('another new compute',si)\n"
      ],
      "execution_count": 10,
      "outputs": [
        {
          "output_type": "stream",
          "text": [
            "here is the registration process [10034, 8993, 1, 1213]\n",
            "ttp sotres data [8993, 1, 1213, 1111]\n",
            "new compute 10215\n",
            "another new compute 10103\n"
          ],
          "name": "stdout"
        }
      ]
    },
    {
      "cell_type": "code",
      "metadata": {
        "colab": {
          "base_uri": "https://localhost:8080/"
        },
        "id": "mJ6JM6LoWhLT",
        "outputId": "6d000d87-cc94-4fa4-bc1e-f320fbaafacb"
      },
      "source": [
        "    ei = pi ^ si\n",
        "    print(\"smart card code \",ei)\n",
        "    smartcard_vi={\n",
        "        \"PID\": pid,\n",
        "        \"secret of smartcard\": ei,\n",
        "        \"secret of smartcard\": pi,\n",
        "        \"secret choses for evoi\":xi,\n",
        "        \"random num\":ri\n",
        "    }\n",
        "    print(smartcard_vi) #calculate smartcard"
      ],
      "execution_count": 11,
      "outputs": [
        {
          "output_type": "stream",
          "text": [
            "smart card code  144\n",
            "{'PID': 8993, 'secret of smartcard': 10215, 'secret choses for evoi': 1111, 'random num': 8992}\n"
          ],
          "name": "stdout"
        }
      ]
    },
    {
      "cell_type": "code",
      "metadata": {
        "colab": {
          "base_uri": "https://localhost:8080/"
        },
        "id": "Y9vYdeyCWoFk",
        "outputId": "193992a3-0677-4d17-b425-b0a4329f21c0"
      },
      "source": [
        "    id_login=1\n",
        "    passworduser_login=9234\n",
        "    g = EVOi(id_login) #id\n",
        "    x = passw()\n",
        "\n",
        "    x.pas(passworduser_login) #pass\n",
        "    compute5 = ri | passworduser_login\n",
        "    com_ranadom_password_cheack= hash(compute5)  # spwi_cheack\n",
        "    print(\"computes pass and random2\", com_ranadom_password_cheack)\n"
      ],
      "execution_count": 12,
      "outputs": [
        {
          "output_type": "stream",
          "text": [
            "submit the id  1\n",
            "submit pass\n",
            " 9234\n",
            "computes pass and random2 10034\n"
          ],
          "name": "stdout"
        }
      ]
    },
    {
      "cell_type": "code",
      "metadata": {
        "colab": {
          "base_uri": "https://localhost:8080/"
        },
        "id": "zZpHto-JWy4J",
        "outputId": "401f1a72-8592-479a-f2b6-679a9fe19240"
      },
      "source": [
        "    compute6 = com_ranadom_password | xi\n",
        "    si2 = hash(compute6)\n",
        "\n",
        "    print('another new compute', si2)\n",
        "\n",
        "    si2 = pi ^ ei\n",
        "    print(si2)\n",
        "\n",
        "    if si == si2:\n",
        "        print(\"ok____varifying this evoi \")\n",
        "    else:\n",
        "        print(\"not ok\")\n"
      ],
      "execution_count": 13,
      "outputs": [
        {
          "output_type": "stream",
          "text": [
            "another new compute 10103\n",
            "10103\n",
            "ok____varifying this evoi \n"
          ],
          "name": "stdout"
        }
      ]
    },
    {
      "cell_type": "code",
      "metadata": {
        "id": "lI_4VnmFW2IK"
      },
      "source": [
        ""
      ],
      "execution_count": null,
      "outputs": []
    }
  ]
}