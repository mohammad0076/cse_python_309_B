{
  "nbformat": 4,
  "nbformat_minor": 0,
  "metadata": {
    "colab": {
      "name": "CSE_309_B_Class_4.ipynb",
      "provenance": [],
      "collapsed_sections": [],
      "include_colab_link": true
    },
    "kernelspec": {
      "name": "python3",
      "display_name": "Python 3"
    }
  },
  "cells": [
    {
      "cell_type": "markdown",
      "metadata": {
        "id": "view-in-github",
        "colab_type": "text"
      },
      "source": [
        "<a href=\"https://colab.research.google.com/github/mohammad0076/cse_python_309_B/blob/master/CSE_309_B_Class_4.ipynb\" target=\"_parent\"><img src=\"https://colab.research.google.com/assets/colab-badge.svg\" alt=\"Open In Colab\"/></a>"
      ]
    },
    {
      "cell_type": "markdown",
      "metadata": {
        "id": "VbydP22wPCwe",
        "colab_type": "text"
      },
      "source": [
        "**List**"
      ]
    },
    {
      "cell_type": "code",
      "metadata": {
        "id": "50ct4dcsN7uU",
        "colab_type": "code",
        "colab": {}
      },
      "source": [
        "L = [3, 10, -5, \"St\", [100, 200], 10.5]"
      ],
      "execution_count": null,
      "outputs": []
    },
    {
      "cell_type": "code",
      "metadata": {
        "id": "EcX2JsYAOe7i",
        "colab_type": "code",
        "colab": {
          "base_uri": "https://localhost:8080/",
          "height": 34
        },
        "outputId": "63d81d4d-9672-4691-d475-091794699740"
      },
      "source": [
        "L[4][0]"
      ],
      "execution_count": null,
      "outputs": [
        {
          "output_type": "execute_result",
          "data": {
            "text/plain": [
              "100"
            ]
          },
          "metadata": {
            "tags": []
          },
          "execution_count": 2
        }
      ]
    },
    {
      "cell_type": "code",
      "metadata": {
        "id": "itxG1DbJOvdC",
        "colab_type": "code",
        "colab": {
          "base_uri": "https://localhost:8080/",
          "height": 34
        },
        "outputId": "6bebf831-5538-439c-e1bb-1942528b9d01"
      },
      "source": [
        "L[3: 100: 2]"
      ],
      "execution_count": null,
      "outputs": [
        {
          "output_type": "execute_result",
          "data": {
            "text/plain": [
              "['St', 10.5]"
            ]
          },
          "metadata": {
            "tags": []
          },
          "execution_count": 3
        }
      ]
    },
    {
      "cell_type": "markdown",
      "metadata": {
        "id": "Cv_a334JPGZW",
        "colab_type": "text"
      },
      "source": [
        "**Dictionary**"
      ]
    },
    {
      "cell_type": "code",
      "metadata": {
        "id": "WU6ctRsmPLb3",
        "colab_type": "code",
        "colab": {
          "base_uri": "https://localhost:8080/",
          "height": 34
        },
        "outputId": "0c54b66e-a5f9-49d3-d543-4a0a26198299"
      },
      "source": [
        "S1 = [\"SAthy\", \"18101077\", \"18101077@\"]\n",
        "S2 = [\"SAthy\", \"18101077\", \"18101077@\"]\n",
        "type(S1)"
      ],
      "execution_count": null,
      "outputs": [
        {
          "output_type": "execute_result",
          "data": {
            "text/plain": [
              "list"
            ]
          },
          "metadata": {
            "tags": []
          },
          "execution_count": 12
        }
      ]
    },
    {
      "cell_type": "code",
      "metadata": {
        "id": "Y_pb42taPilG",
        "colab_type": "code",
        "colab": {
          "base_uri": "https://localhost:8080/",
          "height": 35
        },
        "outputId": "260374d6-e895-4465-a6f7-af53617e4a8d"
      },
      "source": [
        "S1[0]"
      ],
      "execution_count": null,
      "outputs": [
        {
          "output_type": "execute_result",
          "data": {
            "application/vnd.google.colaboratory.intrinsic": {
              "type": "string"
            },
            "text/plain": [
              "'SAthy'"
            ]
          },
          "metadata": {
            "tags": []
          },
          "execution_count": 5
        }
      ]
    },
    {
      "cell_type": "code",
      "metadata": {
        "id": "DKXpzPwBPtZG",
        "colab_type": "code",
        "colab": {
          "base_uri": "https://localhost:8080/",
          "height": 162
        },
        "outputId": "64647e2a-0bbe-422c-bf9a-cd80c7b52aff"
      },
      "source": [
        "S1[\"name\"]"
      ],
      "execution_count": null,
      "outputs": [
        {
          "output_type": "error",
          "ename": "TypeError",
          "evalue": "ignored",
          "traceback": [
            "\u001b[0;31m---------------------------------------------------------------------------\u001b[0m",
            "\u001b[0;31mTypeError\u001b[0m                                 Traceback (most recent call last)",
            "\u001b[0;32m<ipython-input-7-254b983cb7ef>\u001b[0m in \u001b[0;36m<module>\u001b[0;34m()\u001b[0m\n\u001b[0;32m----> 1\u001b[0;31m \u001b[0mS1\u001b[0m\u001b[0;34m[\u001b[0m\u001b[0;34m\"dept\"\u001b[0m\u001b[0;34m]\u001b[0m\u001b[0;34m\u001b[0m\u001b[0;34m\u001b[0m\u001b[0m\n\u001b[0m",
            "\u001b[0;31mTypeError\u001b[0m: list indices must be integers or slices, not str"
          ]
        }
      ]
    },
    {
      "cell_type": "code",
      "metadata": {
        "id": "dg-Lg72TP7mG",
        "colab_type": "code",
        "colab": {
          "base_uri": "https://localhost:8080/",
          "height": 34
        },
        "outputId": "a0ab3f82-7bdb-409e-992e-f4dd0d20d3e2"
      },
      "source": [
        "s1 = { \n",
        "    \"name\" : \"Sathy\",\n",
        "    \"ID\" : 18101077,\n",
        "    \"email\" : '18101077@uap-bd.edu'\n",
        "}\n",
        "type(s1)"
      ],
      "execution_count": null,
      "outputs": [
        {
          "output_type": "execute_result",
          "data": {
            "text/plain": [
              "dict"
            ]
          },
          "metadata": {
            "tags": []
          },
          "execution_count": 11
        }
      ]
    },
    {
      "cell_type": "code",
      "metadata": {
        "id": "hCyZjDdOSkQl",
        "colab_type": "code",
        "colab": {
          "base_uri": "https://localhost:8080/",
          "height": 34
        },
        "outputId": "e8bf9993-f1ec-49cd-fb83-08679e393648"
      },
      "source": [
        "s2 = { \n",
        "    \"name\" : \"Anik\",\n",
        "    \"ID\" : 18101070,\n",
        "    \"email\" : '18101070@uap-bd.edu'\n",
        "}\n",
        "type(s2)"
      ],
      "execution_count": null,
      "outputs": [
        {
          "output_type": "execute_result",
          "data": {
            "text/plain": [
              "dict"
            ]
          },
          "metadata": {
            "tags": []
          },
          "execution_count": 25
        }
      ]
    },
    {
      "cell_type": "code",
      "metadata": {
        "id": "j6MBUqa3QPvl",
        "colab_type": "code",
        "colab": {
          "base_uri": "https://localhost:8080/",
          "height": 35
        },
        "outputId": "c6df60dc-b924-4ea8-ba93-a912360c65ef"
      },
      "source": [
        "s1[\"name\"]"
      ],
      "execution_count": null,
      "outputs": [
        {
          "output_type": "execute_result",
          "data": {
            "application/vnd.google.colaboratory.intrinsic": {
              "type": "string"
            },
            "text/plain": [
              "'Sathy'"
            ]
          },
          "metadata": {
            "tags": []
          },
          "execution_count": 9
        }
      ]
    },
    {
      "cell_type": "code",
      "metadata": {
        "id": "ER0J-veXQR3u",
        "colab_type": "code",
        "colab": {
          "base_uri": "https://localhost:8080/",
          "height": 34
        },
        "outputId": "42013af3-3363-4ca1-a712-0bb81cb977a4"
      },
      "source": [
        "s1[\"ID\"]"
      ],
      "execution_count": null,
      "outputs": [
        {
          "output_type": "execute_result",
          "data": {
            "text/plain": [
              "18101077"
            ]
          },
          "metadata": {
            "tags": []
          },
          "execution_count": 10
        }
      ]
    },
    {
      "cell_type": "code",
      "metadata": {
        "id": "7fHl_TLBQtmf",
        "colab_type": "code",
        "colab": {
          "base_uri": "https://localhost:8080/",
          "height": 35
        },
        "outputId": "f8e11b80-f733-42c9-8ec1-02e37e2190da"
      },
      "source": [
        "d = {\n",
        "    \"key\" : \"value\"\n",
        "}\n",
        "\n",
        "d[\"key\"]"
      ],
      "execution_count": null,
      "outputs": [
        {
          "output_type": "execute_result",
          "data": {
            "application/vnd.google.colaboratory.intrinsic": {
              "type": "string"
            },
            "text/plain": [
              "'value'"
            ]
          },
          "metadata": {
            "tags": []
          },
          "execution_count": 13
        }
      ]
    },
    {
      "cell_type": "code",
      "metadata": {
        "id": "IDMsf1AZQ_vW",
        "colab_type": "code",
        "colab": {}
      },
      "source": [
        "d2 = {\n",
        "    1 : \"str\",\n",
        "    \"name\" : \"This is my name\",\n",
        "    10 : 100.5,\n",
        "    \"odd\" : [1, 3, 5, 7]\n",
        "}"
      ],
      "execution_count": null,
      "outputs": []
    },
    {
      "cell_type": "code",
      "metadata": {
        "id": "MTCpqwq_RWOs",
        "colab_type": "code",
        "colab": {
          "base_uri": "https://localhost:8080/",
          "height": 35
        },
        "outputId": "a6ed1ef1-9729-4f2b-cafc-4d32c4ecc9fc"
      },
      "source": [
        "d2[1]"
      ],
      "execution_count": null,
      "outputs": [
        {
          "output_type": "execute_result",
          "data": {
            "application/vnd.google.colaboratory.intrinsic": {
              "type": "string"
            },
            "text/plain": [
              "'str'"
            ]
          },
          "metadata": {
            "tags": []
          },
          "execution_count": 16
        }
      ]
    },
    {
      "cell_type": "code",
      "metadata": {
        "id": "5P0t4gbbRZE0",
        "colab_type": "code",
        "colab": {
          "base_uri": "https://localhost:8080/",
          "height": 35
        },
        "outputId": "3b2dd50e-74b5-4720-f34f-6d07acbfae05"
      },
      "source": [
        "d2[\"name\"]"
      ],
      "execution_count": null,
      "outputs": [
        {
          "output_type": "execute_result",
          "data": {
            "application/vnd.google.colaboratory.intrinsic": {
              "type": "string"
            },
            "text/plain": [
              "'This is my name'"
            ]
          },
          "metadata": {
            "tags": []
          },
          "execution_count": 17
        }
      ]
    },
    {
      "cell_type": "code",
      "metadata": {
        "id": "4elIvjfCRbNu",
        "colab_type": "code",
        "colab": {
          "base_uri": "https://localhost:8080/",
          "height": 34
        },
        "outputId": "7e832246-5f54-4dc4-def0-06a96ca71956"
      },
      "source": [
        "d2[\"odd\"]"
      ],
      "execution_count": null,
      "outputs": [
        {
          "output_type": "execute_result",
          "data": {
            "text/plain": [
              "[1, 3, 5, 7]"
            ]
          },
          "metadata": {
            "tags": []
          },
          "execution_count": 18
        }
      ]
    },
    {
      "cell_type": "code",
      "metadata": {
        "id": "nNvQZb4vRdqM",
        "colab_type": "code",
        "colab": {
          "base_uri": "https://localhost:8080/",
          "height": 34
        },
        "outputId": "b68684e3-2b02-4e13-ff18-f8d2f75b2927"
      },
      "source": [
        "print(d2)"
      ],
      "execution_count": null,
      "outputs": [
        {
          "output_type": "stream",
          "text": [
            "{1: 'str', 'name': 'This is my name', 10: 100.5, 'odd': [1, 3, 5, 7]}\n"
          ],
          "name": "stdout"
        }
      ]
    },
    {
      "cell_type": "code",
      "metadata": {
        "id": "_HtmfsB3SN_K",
        "colab_type": "code",
        "colab": {}
      },
      "source": [
        "# onek joner information nibo\n",
        "\n",
        "s = {\n",
        "    \"name1\" : \"Anik\",\n",
        "    \"name2\" : \"Sathy\"\n",
        "}"
      ],
      "execution_count": null,
      "outputs": []
    },
    {
      "cell_type": "code",
      "metadata": {
        "id": "TzIz5Dw1SczD",
        "colab_type": "code",
        "colab": {
          "base_uri": "https://localhost:8080/",
          "height": 35
        },
        "outputId": "d81ff5ab-7b7c-4f5f-d478-509dc35acd3d"
      },
      "source": [
        "s[\"name1\"]"
      ],
      "execution_count": null,
      "outputs": [
        {
          "output_type": "execute_result",
          "data": {
            "application/vnd.google.colaboratory.intrinsic": {
              "type": "string"
            },
            "text/plain": [
              "'Anik'"
            ]
          },
          "metadata": {
            "tags": []
          },
          "execution_count": 24
        }
      ]
    },
    {
      "cell_type": "code",
      "metadata": {
        "id": "EGJ0pk7mSimb",
        "colab_type": "code",
        "colab": {}
      },
      "source": [
        "student_list = [s1, s2]"
      ],
      "execution_count": null,
      "outputs": []
    },
    {
      "cell_type": "code",
      "metadata": {
        "id": "O8vcF0ryStSa",
        "colab_type": "code",
        "colab": {
          "base_uri": "https://localhost:8080/",
          "height": 35
        },
        "outputId": "0203a88d-5cc0-4a94-e8a6-5985f437b7dd"
      },
      "source": [
        "student_list[0][\"name\"]"
      ],
      "execution_count": null,
      "outputs": [
        {
          "output_type": "execute_result",
          "data": {
            "application/vnd.google.colaboratory.intrinsic": {
              "type": "string"
            },
            "text/plain": [
              "'Sathy'"
            ]
          },
          "metadata": {
            "tags": []
          },
          "execution_count": 27
        }
      ]
    },
    {
      "cell_type": "code",
      "metadata": {
        "id": "UUbMTV_uSzJ6",
        "colab_type": "code",
        "colab": {}
      },
      "source": [
        "student_dictionary = {\n",
        "    \"student1\" : s1,\n",
        "    \"student2\" : s2\n",
        "}"
      ],
      "execution_count": null,
      "outputs": []
    },
    {
      "cell_type": "code",
      "metadata": {
        "id": "5t24nDdUS6IK",
        "colab_type": "code",
        "colab": {
          "base_uri": "https://localhost:8080/",
          "height": 34
        },
        "outputId": "7367a5a4-aadf-4028-9491-c9eac442b21c"
      },
      "source": [
        "student_dictionary[\"student1\"]"
      ],
      "execution_count": null,
      "outputs": [
        {
          "output_type": "execute_result",
          "data": {
            "text/plain": [
              "{'ID': 18101077, 'email': '18101077@uap-bd.edu', 'name': 'Sathy'}"
            ]
          },
          "metadata": {
            "tags": []
          },
          "execution_count": 30
        }
      ]
    },
    {
      "cell_type": "code",
      "metadata": {
        "id": "R6v_Z-PnTKhq",
        "colab_type": "code",
        "colab": {}
      },
      "source": [
        "s_d = {\n",
        "    \"s1\" : {\n",
        "        \"name\" : \"A\",\n",
        "        \"ID\" : 1\n",
        "    },\n",
        "\n",
        "    \"s2\" : {\n",
        "        \"name\" : \"B\",\n",
        "        \"ID\" :2\n",
        "    }\n",
        "}"
      ],
      "execution_count": null,
      "outputs": []
    },
    {
      "cell_type": "code",
      "metadata": {
        "id": "gfzuQ9bfToAJ",
        "colab_type": "code",
        "colab": {}
      },
      "source": [
        "s1 = {\n",
        "        \"name\" : \"A\",\n",
        "        \"ID\" : 1,\n",
        "        \"Grade\" : {\n",
        "            \"1-1\" : 3.8,\n",
        "            \"1-2\" : 3.5\n",
        "        }\n",
        "    }\n",
        "\n",
        "s2 = {\n",
        "        \"name\" : \"B\",\n",
        "        \"ID\" :2,\n",
        "        \"Grade\" : {\n",
        "            \"1-1\" : 3.8,\n",
        "            \"1-2\" : 3.5\n",
        "        }\n",
        "    }\n",
        "\n",
        "s_d = {\n",
        "    \"s1\" : s1,\n",
        "\n",
        "    \"s2\" : s2\n",
        "}"
      ],
      "execution_count": null,
      "outputs": []
    },
    {
      "cell_type": "code",
      "metadata": {
        "id": "MDlDb6lFTY-j",
        "colab_type": "code",
        "colab": {
          "base_uri": "https://localhost:8080/",
          "height": 34
        },
        "outputId": "7ca17e69-f75a-4972-9b5c-4b2bc358550e"
      },
      "source": [
        "print(s_d)"
      ],
      "execution_count": null,
      "outputs": [
        {
          "output_type": "stream",
          "text": [
            "{'s1': {'name': 'A', 'ID': 1}, 's2': {'name': 'B', 'ID': 2}}\n"
          ],
          "name": "stdout"
        }
      ]
    },
    {
      "cell_type": "code",
      "metadata": {
        "id": "5M4NWKigUFns",
        "colab_type": "code",
        "colab": {
          "base_uri": "https://localhost:8080/",
          "height": 34
        },
        "outputId": "d3bc06f2-016d-46fe-8c73-a45d8cb67f6d"
      },
      "source": [
        "s_d[\"s2\"][\"ID\"] "
      ],
      "execution_count": null,
      "outputs": [
        {
          "output_type": "execute_result",
          "data": {
            "text/plain": [
              "2"
            ]
          },
          "metadata": {
            "tags": []
          },
          "execution_count": 37
        }
      ]
    },
    {
      "cell_type": "code",
      "metadata": {
        "id": "gpdom-1TVMTy",
        "colab_type": "code",
        "colab": {
          "base_uri": "https://localhost:8080/",
          "height": 34
        },
        "outputId": "b4cf889f-79f7-48f8-f39b-1d07c7928067"
      },
      "source": [
        "s_d[\"s1\"][\"Grade\"][\"1-1\"]"
      ],
      "execution_count": null,
      "outputs": [
        {
          "output_type": "execute_result",
          "data": {
            "text/plain": [
              "3.8"
            ]
          },
          "metadata": {
            "tags": []
          },
          "execution_count": 39
        }
      ]
    },
    {
      "cell_type": "code",
      "metadata": {
        "id": "x3XbOTuaVcpn",
        "colab_type": "code",
        "colab": {
          "base_uri": "https://localhost:8080/",
          "height": 34
        },
        "outputId": "672d37bb-b981-4095-ae2d-4a03f58f562d"
      },
      "source": [
        "s_d[\"s1\"]"
      ],
      "execution_count": null,
      "outputs": [
        {
          "output_type": "execute_result",
          "data": {
            "text/plain": [
              "{'Grade': {'1-1': 3.8, '1-2': 3.5}, 'ID': 1, 'name': 'A'}"
            ]
          },
          "metadata": {
            "tags": []
          },
          "execution_count": 40
        }
      ]
    },
    {
      "cell_type": "code",
      "metadata": {
        "id": "rJ-rrPH6VgVY",
        "colab_type": "code",
        "colab": {
          "base_uri": "https://localhost:8080/",
          "height": 34
        },
        "outputId": "8e4c3c8b-86ac-4d6d-cef2-334c4081649c"
      },
      "source": [
        "s_d[\"s1\"][\"Grade\"]"
      ],
      "execution_count": null,
      "outputs": [
        {
          "output_type": "execute_result",
          "data": {
            "text/plain": [
              "{'1-1': 3.8, '1-2': 3.5}"
            ]
          },
          "metadata": {
            "tags": []
          },
          "execution_count": 41
        }
      ]
    },
    {
      "cell_type": "code",
      "metadata": {
        "id": "HzLAc6BGVlOg",
        "colab_type": "code",
        "colab": {
          "base_uri": "https://localhost:8080/",
          "height": 34
        },
        "outputId": "4d34a904-3d62-44d9-8580-d7996504556c"
      },
      "source": [
        "s_d[\"s1\"][\"Grade\"][\"1-1\"] "
      ],
      "execution_count": null,
      "outputs": [
        {
          "output_type": "execute_result",
          "data": {
            "text/plain": [
              "3.9"
            ]
          },
          "metadata": {
            "tags": []
          },
          "execution_count": 44
        }
      ]
    },
    {
      "cell_type": "code",
      "metadata": {
        "id": "Nqyf0on_V1Oq",
        "colab_type": "code",
        "colab": {}
      },
      "source": [
        "s_d[\"s1\"][\"Grade\"][\"1-1\"] = 3.9"
      ],
      "execution_count": null,
      "outputs": []
    },
    {
      "cell_type": "markdown",
      "metadata": {
        "id": "Wx48dVl3Udbw",
        "colab_type": "text"
      },
      "source": [
        "**Conditional (if-else)**"
      ]
    },
    {
      "cell_type": "markdown",
      "metadata": {
        "id": "5BJNlDmbVtB_",
        "colab_type": "text"
      },
      "source": [
        "\n",
        "\n",
        "```\n",
        "max(a, b)\n",
        "if (a > b) {\n",
        "  print(a)\n",
        "}\n",
        "else \n",
        "  print(b)\n",
        "```\n",
        "\n"
      ]
    },
    {
      "cell_type": "markdown",
      "metadata": {
        "id": "EsWcSX5bWY6J",
        "colab_type": "text"
      },
      "source": [
        "Indentation is very important for python "
      ]
    },
    {
      "cell_type": "code",
      "metadata": {
        "id": "UBQUxTqqUmZp",
        "colab_type": "code",
        "colab": {
          "base_uri": "https://localhost:8080/",
          "height": 67
        },
        "outputId": "aa93dab8-13a4-4944-9357-a5c33a2a9c15"
      },
      "source": [
        "a = int(input())\n",
        "b = int(input())\n",
        "\n",
        "if a > b : \n",
        "  print(a) \n",
        "else:\n",
        "  print(b)\n",
        "# indentation -> tab "
      ],
      "execution_count": null,
      "outputs": [
        {
          "output_type": "stream",
          "text": [
            "10\n",
            "5\n",
            "10\n"
          ],
          "name": "stdout"
        }
      ]
    },
    {
      "cell_type": "code",
      "metadata": {
        "id": "cR2-_pHZWsBR",
        "colab_type": "code",
        "colab": {
          "base_uri": "https://localhost:8080/",
          "height": 128
        },
        "outputId": "cf7fc258-95ca-4ccc-8d6d-42538a441321"
      },
      "source": [
        "a = int(input())\n",
        "b = int(input())\n",
        "\n",
        "if a > b : \n",
        "print(a)\n",
        "else:\n",
        "  print(b)"
      ],
      "execution_count": null,
      "outputs": [
        {
          "output_type": "error",
          "ename": "IndentationError",
          "evalue": "ignored",
          "traceback": [
            "\u001b[0;36m  File \u001b[0;32m\"<ipython-input-47-2f381931cd94>\"\u001b[0;36m, line \u001b[0;32m5\u001b[0m\n\u001b[0;31m    print(a)\u001b[0m\n\u001b[0m        ^\u001b[0m\n\u001b[0;31mIndentationError\u001b[0m\u001b[0;31m:\u001b[0m expected an indented block\n"
          ]
        }
      ]
    },
    {
      "cell_type": "code",
      "metadata": {
        "id": "VN9nTuJTWv-q",
        "colab_type": "code",
        "colab": {
          "base_uri": "https://localhost:8080/",
          "height": 128
        },
        "outputId": "fa83c786-0f49-478e-c1d5-b03d5eb4b768"
      },
      "source": [
        "a = int(input())\n",
        "b = int(input())\n",
        "\n",
        "if a > b : \n",
        "  print(a)\n",
        "else:\n",
        "print(b)"
      ],
      "execution_count": null,
      "outputs": [
        {
          "output_type": "error",
          "ename": "IndentationError",
          "evalue": "ignored",
          "traceback": [
            "\u001b[0;36m  File \u001b[0;32m\"<ipython-input-48-951e5b3f875c>\"\u001b[0;36m, line \u001b[0;32m7\u001b[0m\n\u001b[0;31m    print(b)\u001b[0m\n\u001b[0m        ^\u001b[0m\n\u001b[0;31mIndentationError\u001b[0m\u001b[0;31m:\u001b[0m expected an indented block\n"
          ]
        }
      ]
    },
    {
      "cell_type": "code",
      "metadata": {
        "id": "_PTdQeWTXJel",
        "colab_type": "code",
        "colab": {
          "base_uri": "https://localhost:8080/",
          "height": 50
        },
        "outputId": "4bc66d16-aae5-4776-caac-6f3eb4af76eb"
      },
      "source": [
        "x = input()\n",
        "type(x)"
      ],
      "execution_count": null,
      "outputs": [
        {
          "output_type": "stream",
          "text": [
            "10\n"
          ],
          "name": "stdout"
        },
        {
          "output_type": "execute_result",
          "data": {
            "text/plain": [
              "str"
            ]
          },
          "metadata": {
            "tags": []
          },
          "execution_count": 49
        }
      ]
    },
    {
      "cell_type": "code",
      "metadata": {
        "id": "QOf1v7nhXRZM",
        "colab_type": "code",
        "colab": {
          "base_uri": "https://localhost:8080/",
          "height": 50
        },
        "outputId": "9257849d-f89b-4dab-b129-a1fac9b2cc3c"
      },
      "source": [
        "x = eval(input())\n",
        "type(x)"
      ],
      "execution_count": null,
      "outputs": [
        {
          "output_type": "stream",
          "text": [
            "10.5\n"
          ],
          "name": "stdout"
        },
        {
          "output_type": "execute_result",
          "data": {
            "text/plain": [
              "float"
            ]
          },
          "metadata": {
            "tags": []
          },
          "execution_count": 53
        }
      ]
    },
    {
      "cell_type": "markdown",
      "metadata": {
        "id": "F26McspVXp8X",
        "colab_type": "text"
      },
      "source": [
        "\n",
        "\n",
        "```\n",
        "if condition ( boolean -> (True/False) ) :\n",
        "  \n",
        "```\n",
        "\n"
      ]
    },
    {
      "cell_type": "code",
      "metadata": {
        "id": "mP9PjJVbX1kN",
        "colab_type": "code",
        "colab": {
          "base_uri": "https://localhost:8080/",
          "height": 101
        },
        "outputId": "e790d950-67a2-4329-91fe-e826349aee6f"
      },
      "source": [
        "a = int(input() )\n",
        "\n",
        "if a > 10:\n",
        "  print(1)\n",
        "  \n",
        "if a >= 10:\n",
        "  print(2)\n",
        "\n",
        "if a < 10:\n",
        "  print(3)\n",
        "\n",
        "if a <= 10:\n",
        "  print(4)\n",
        "\n",
        "if a == 10:\n",
        "  print(5)\n",
        "  \n",
        "if a != 10:\n",
        "  print(6)\n",
        "else:\n",
        "  print(\"Good!\")"
      ],
      "execution_count": null,
      "outputs": [
        {
          "output_type": "stream",
          "text": [
            "10\n",
            "2\n",
            "4\n",
            "5\n",
            "Good!\n"
          ],
          "name": "stdout"
        }
      ]
    },
    {
      "cell_type": "code",
      "metadata": {
        "id": "uk8ucqV-ZOnd",
        "colab_type": "code",
        "colab": {
          "base_uri": "https://localhost:8080/",
          "height": 50
        },
        "outputId": "31151fb7-59aa-4b79-c395-c8e03b3b495a"
      },
      "source": [
        "a = int(input() )\n",
        "\n",
        "if a > 10:\n",
        "  print(1)"
      ],
      "execution_count": null,
      "outputs": [
        {
          "output_type": "stream",
          "text": [
            "20\n",
            "1\n"
          ],
          "name": "stdout"
        }
      ]
    },
    {
      "cell_type": "code",
      "metadata": {
        "id": "v6nXjbXVZP7m",
        "colab_type": "code",
        "colab": {
          "base_uri": "https://localhost:8080/",
          "height": 50
        },
        "outputId": "c585bd82-4c3b-498c-a7b8-4c425954174b"
      },
      "source": [
        "a = int(input() )\n",
        "\n",
        "if a > 10:\n",
        "  print(1)\n",
        "elif a >= 10: #else if\n",
        "  print(2)\n",
        "elif a < 10:\n",
        "  print(3)\n",
        "elif a <= 10:\n",
        "  print(4)\n",
        "elif a == 10:\n",
        "  print(5)\n",
        "elif a != 10:\n",
        "  print(6)\n",
        "else:\n",
        "  print(\"Good!\")"
      ],
      "execution_count": null,
      "outputs": [
        {
          "output_type": "stream",
          "text": [
            "10\n",
            "2\n"
          ],
          "name": "stdout"
        }
      ]
    },
    {
      "cell_type": "code",
      "metadata": {
        "id": "ScMshmi_ZuWR",
        "colab_type": "code",
        "colab": {
          "base_uri": "https://localhost:8080/",
          "height": 84
        },
        "outputId": "c75836d3-06c4-4663-aa49-fb53768739d1"
      },
      "source": [
        "# max (a, b, c)\n",
        "\n",
        "a = int(input() )\n",
        "b = int(input() )\n",
        "c = int(input() )\n",
        "\n",
        "if a>b and a>c:\n",
        "  print(a)\n",
        "elif b>a and b>c:\n",
        "  print(b)\n",
        "else:\n",
        "  print(c)"
      ],
      "execution_count": null,
      "outputs": [
        {
          "output_type": "stream",
          "text": [
            "10\n",
            "20\n",
            "5\n",
            "20\n"
          ],
          "name": "stdout"
        }
      ]
    },
    {
      "cell_type": "code",
      "metadata": {
        "id": "QI3c7i8Baf50",
        "colab_type": "code",
        "colab": {
          "base_uri": "https://localhost:8080/",
          "height": 34
        },
        "outputId": "0576fc6e-ad40-4485-ec05-8f73ccec66d2"
      },
      "source": [
        "a = 25\n",
        "\n",
        "if a >20 or a<-20:\n",
        "  print(\"OK\")"
      ],
      "execution_count": null,
      "outputs": [
        {
          "output_type": "stream",
          "text": [
            "OK\n"
          ],
          "name": "stdout"
        }
      ]
    },
    {
      "cell_type": "markdown",
      "metadata": {
        "id": "N_NvDdNtat_y",
        "colab_type": "text"
      },
      "source": [
        "**Nested **"
      ]
    },
    {
      "cell_type": "code",
      "metadata": {
        "id": "CBfqjfL5avpZ",
        "colab_type": "code",
        "colab": {
          "base_uri": "https://localhost:8080/",
          "height": 84
        },
        "outputId": "225c3402-746b-44e9-d166-761ccd9c2b28"
      },
      "source": [
        "# max (a, b, c)\n",
        "a = int(input() )\n",
        "b = int(input() )\n",
        "c = int(input() )\n",
        "\n",
        "if a>b:\n",
        "  if a>c:\n",
        "    print(a)\n",
        "if b>a:\n",
        "  if b>c:\n",
        "    print(b)\n",
        "if c>a:\n",
        "  if c>b:\n",
        "    print(c)"
      ],
      "execution_count": null,
      "outputs": [
        {
          "output_type": "stream",
          "text": [
            "20\n",
            "30\n",
            "55\n",
            "55\n"
          ],
          "name": "stdout"
        }
      ]
    },
    {
      "cell_type": "code",
      "metadata": {
        "id": "sZ5fE9n2bUyF",
        "colab_type": "code",
        "colab": {
          "base_uri": "https://localhost:8080/",
          "height": 84
        },
        "outputId": "f1d463b7-00c5-4ecf-95ff-1d932dc5d005"
      },
      "source": [
        "# max (a, b, c)\n",
        "a = int(input() )\n",
        "b = int(input() )\n",
        "c = int(input() )\n",
        "\n",
        "if a>b:\n",
        "  if a>c:\n",
        "    print(a)\n",
        "  else:\n",
        "    print(c)\n",
        "elif b>a:\n",
        "  if b>c:\n",
        "    print(b)\n",
        "  else:\n",
        "    print(c)\n",
        "else:\n",
        "  print(c)"
      ],
      "execution_count": null,
      "outputs": [
        {
          "output_type": "stream",
          "text": [
            "10\n",
            "10\n",
            "20\n",
            "20\n"
          ],
          "name": "stdout"
        }
      ]
    },
    {
      "cell_type": "code",
      "metadata": {
        "id": "M5pL9b1Ncpfi",
        "colab_type": "code",
        "colab": {
          "base_uri": "https://localhost:8080/",
          "height": 67
        },
        "outputId": "a5ec5983-0310-4a20-d56c-0baf60990b34"
      },
      "source": [
        "# max (a, b, c)\n",
        "a = int(input() )\n",
        "b = int(input() )\n",
        "c = int(input() )\n",
        "\n",
        "if a>b:\n",
        "  if a>c:\n",
        "    print(a)\n",
        "  else:\n",
        "    print(c)\n",
        "elif b>a:\n",
        "  if b>c:\n",
        "    print(b)\n",
        "  else:\n",
        "    print(c)\n",
        "# wrong code"
      ],
      "execution_count": null,
      "outputs": [
        {
          "output_type": "stream",
          "text": [
            "10\n",
            "10\n",
            "20\n"
          ],
          "name": "stdout"
        }
      ]
    },
    {
      "cell_type": "code",
      "metadata": {
        "id": "W5_r1hJOc0io",
        "colab_type": "code",
        "colab": {
          "base_uri": "https://localhost:8080/",
          "height": 84
        },
        "outputId": "ea1e770c-a6c1-4d0d-fc39-aa58d3b9da19"
      },
      "source": [
        "# max (a, b, c)\n",
        "a = int( input() )\n",
        "b = int( input() )\n",
        "c = int( input() )\n",
        "\n",
        "if a>=b:\n",
        "  if a>c:\n",
        "    print(a)\n",
        "  else:\n",
        "    print(c)\n",
        "elif b>a:\n",
        "  if b>c:\n",
        "    print(b)\n",
        "  else:\n",
        "    print(c)"
      ],
      "execution_count": null,
      "outputs": [
        {
          "output_type": "stream",
          "text": [
            "10\n",
            "10\n",
            "20\n",
            "20\n"
          ],
          "name": "stdout"
        }
      ]
    },
    {
      "cell_type": "markdown",
      "metadata": {
        "id": "ET3spJgWdJ-X",
        "colab_type": "text"
      },
      "source": [
        "More on indentation"
      ]
    },
    {
      "cell_type": "code",
      "metadata": {
        "id": "OaxbBgrZdC1I",
        "colab_type": "code",
        "colab": {
          "base_uri": "https://localhost:8080/",
          "height": 34
        },
        "outputId": "6d7779a4-a21f-4a0f-b52d-f8fb31890efc"
      },
      "source": [
        "a = 10\n",
        "\n",
        "if a>10:\n",
        "  print(1)\n",
        "print(2)"
      ],
      "execution_count": null,
      "outputs": [
        {
          "output_type": "stream",
          "text": [
            "2\n"
          ],
          "name": "stdout"
        }
      ]
    },
    {
      "cell_type": "code",
      "metadata": {
        "id": "SQ3x1SMRdObK",
        "colab_type": "code",
        "colab": {
          "base_uri": "https://localhost:8080/",
          "height": 128
        },
        "outputId": "3c931d70-fdbc-4aca-8f72-2be14d689df4"
      },
      "source": [
        "a = 10\n",
        "\n",
        "if a>10:\n",
        "  print(1)\n",
        "print(2)\n",
        "else:\n",
        "  print(3)"
      ],
      "execution_count": null,
      "outputs": [
        {
          "output_type": "error",
          "ename": "SyntaxError",
          "evalue": "ignored",
          "traceback": [
            "\u001b[0;36m  File \u001b[0;32m\"<ipython-input-75-6b248eafdfe9>\"\u001b[0;36m, line \u001b[0;32m6\u001b[0m\n\u001b[0;31m    else:\u001b[0m\n\u001b[0m       ^\u001b[0m\n\u001b[0;31mSyntaxError\u001b[0m\u001b[0;31m:\u001b[0m invalid syntax\n"
          ]
        }
      ]
    },
    {
      "cell_type": "code",
      "metadata": {
        "id": "PUjR7jgEdXjC",
        "colab_type": "code",
        "colab": {
          "base_uri": "https://localhost:8080/",
          "height": 67
        },
        "outputId": "3939ad69-d726-4a55-9916-ce30a5e68c30"
      },
      "source": [
        "a = 10\n",
        "\n",
        "if a>10:\n",
        "  print(1)\n",
        "  print(2)\n",
        "else:\n",
        "  print(3)\n",
        "  print(4)\n",
        "print(5)"
      ],
      "execution_count": null,
      "outputs": [
        {
          "output_type": "stream",
          "text": [
            "3\n",
            "4\n",
            "5\n"
          ],
          "name": "stdout"
        }
      ]
    },
    {
      "cell_type": "markdown",
      "metadata": {
        "id": "VJu-637bdpxZ",
        "colab_type": "text"
      },
      "source": [
        "pass"
      ]
    },
    {
      "cell_type": "code",
      "metadata": {
        "id": "r5Hx0Y_edsDG",
        "colab_type": "code",
        "colab": {
          "base_uri": "https://localhost:8080/",
          "height": 128
        },
        "outputId": "c24f0f4c-1e44-41e7-9824-c48971e355b7"
      },
      "source": [
        "a =10\n",
        "if a>10:\n",
        "  "
      ],
      "execution_count": null,
      "outputs": [
        {
          "output_type": "error",
          "ename": "SyntaxError",
          "evalue": "ignored",
          "traceback": [
            "\u001b[0;36m  File \u001b[0;32m\"<ipython-input-77-a497c26c9ea0>\"\u001b[0;36m, line \u001b[0;32m3\u001b[0m\n\u001b[0;31m    \u001b[0m\n\u001b[0m    ^\u001b[0m\n\u001b[0;31mSyntaxError\u001b[0m\u001b[0;31m:\u001b[0m unexpected EOF while parsing\n"
          ]
        }
      ]
    },
    {
      "cell_type": "code",
      "metadata": {
        "id": "7IdnhLTXdx8G",
        "colab_type": "code",
        "colab": {}
      },
      "source": [
        "a =10\n",
        "if a>10:\n",
        "  pass #bfs\n",
        "else:\n",
        "  pass #dfs"
      ],
      "execution_count": null,
      "outputs": []
    }
  ]
}