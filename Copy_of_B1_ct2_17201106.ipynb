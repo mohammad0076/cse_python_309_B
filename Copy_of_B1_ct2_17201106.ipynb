{
  "nbformat": 4,
  "nbformat_minor": 0,
  "metadata": {
    "colab": {
      "name": "Copy of B1_ct2_17201106.ipynb",
      "provenance": [],
      "include_colab_link": true
    },
    "kernelspec": {
      "name": "python3",
      "display_name": "Python 3"
    }
  },
  "cells": [
    {
      "cell_type": "markdown",
      "metadata": {
        "id": "view-in-github",
        "colab_type": "text"
      },
      "source": [
        "<a href=\"https://colab.research.google.com/github/mohammad0076/cse_python_309_B/blob/master/Copy_of_B1_ct2_17201106.ipynb\" target=\"_parent\"><img src=\"https://colab.research.google.com/assets/colab-badge.svg\" alt=\"Open In Colab\"/></a>"
      ]
    },
    {
      "cell_type": "code",
      "metadata": {
        "id": "D1xqRla2dKMo",
        "colab_type": "code",
        "colab": {}
      },
      "source": [
        "1"
      ],
      "execution_count": null,
      "outputs": []
    },
    {
      "cell_type": "markdown",
      "metadata": {
        "id": "DGwOG_15dMi8",
        "colab_type": "text"
      },
      "source": [
        ""
      ]
    },
    {
      "cell_type": "code",
      "metadata": {
        "id": "GiUuBW8BdYl2",
        "colab_type": "code",
        "colab": {
          "base_uri": "https://localhost:8080/",
          "height": 87
        },
        "outputId": "cceebfd4-21cb-4007-91e5-02e69eb3a308"
      },
      "source": [
        "a=int(input(\"Enter the first number: \")) \n",
        "b=int(input(\"Enter the second number: \"))\n",
        "c=int(input(\"Enter the third number: \")) \n",
        "if(a<=b and b<=c):   \n",
        "  print(a)\n",
        " \n",
        "elif(b<=a and b<=c):\n",
        "  print(b)\n",
        "else:\n",
        "    print(c)\n",
        "\n"
      ],
      "execution_count": null,
      "outputs": [
        {
          "output_type": "stream",
          "text": [
            "Enter the first number: 10\n",
            "Enter the second number: 20\n",
            "Enter the third number: 30\n",
            "10\n"
          ],
          "name": "stdout"
        }
      ]
    },
    {
      "cell_type": "code",
      "metadata": {
        "id": "_tW5CD4SdhGc",
        "colab_type": "code",
        "colab": {}
      },
      "source": [
        ""
      ],
      "execution_count": null,
      "outputs": []
    },
    {
      "cell_type": "markdown",
      "metadata": {
        "id": "_GCrKdI1dh9E",
        "colab_type": "text"
      },
      "source": [
        "2"
      ]
    },
    {
      "cell_type": "code",
      "metadata": {
        "id": "htGkKeWsdhRr",
        "colab_type": "code",
        "colab": {
          "base_uri": "https://localhost:8080/",
          "height": 52
        },
        "outputId": "e5cd0178-c1b5-4d2d-b46a-dc9251fb3101"
      },
      "source": [
        "m = int(input('enter your marks:'))\n",
        "\n",
        "\n",
        "if m >= 80:\n",
        "  g ='A+'\n",
        "elif m >=75:\n",
        "\n",
        "  g ='A'\n",
        "elif m>=70:\n",
        "  g ='A-'   \n",
        "\n",
        "elif m>=60:\n",
        "  g ='B'\n",
        "elif m>=40:\n",
        "  g='D'\n",
        "else:\n",
        "  g ='F'\n",
        "print('your grade is:',g)"
      ],
      "execution_count": 3,
      "outputs": [
        {
          "output_type": "stream",
          "text": [
            "enter your marks:60\n",
            "your grade is: B\n"
          ],
          "name": "stdout"
        }
      ]
    },
    {
      "cell_type": "code",
      "metadata": {
        "id": "V7qvWHLSfb--",
        "colab_type": "code",
        "colab": {}
      },
      "source": [
        "#3\n"
      ],
      "execution_count": null,
      "outputs": []
    },
    {
      "cell_type": "code",
      "metadata": {
        "id": "4uN8hDGpfcHD",
        "colab_type": "code",
        "colab": {
          "base_uri": "https://localhost:8080/",
          "height": 141
        },
        "outputId": "22ee0e19-5bd1-472d-812c-c3ca407d345e"
      },
      "source": [
        "a=int(input('Element 1'))\n",
        "b=int(input('Element 2'))\n",
        "c=int(input('Element 3'))\n",
        "d=int(input('Element 4'))\n",
        "e=int(input('Element 5'))\n",
        "\n",
        "\n",
        "list=[a,b,c,d,e]\n",
        "print(list)\n",
        "\n",
        "list[0],list[1]=list[1],list[0]\n",
        "#list.swap(int(input()),int(input()))#\n",
        "print(list)\n",
        "\n"
      ],
      "execution_count": null,
      "outputs": [
        {
          "output_type": "stream",
          "text": [
            "Element 11\n",
            "Element 23\n",
            "Element 34\n",
            "Element 45\n",
            "Element 54\n",
            "[1, 3, 4, 5, 4]\n",
            "[3, 1, 4, 5, 4]\n"
          ],
          "name": "stdout"
        }
      ]
    },
    {
      "cell_type": "code",
      "metadata": {
        "id": "I1nEcjrjgnae",
        "colab_type": "code",
        "colab": {}
      },
      "source": [
        "#4\n",
        "emplyees={ 'emplyee1','emplyee2','emplyee3','emplyees4','emplyees5'  }\n",
        "\n",
        "employee1 = {'ID': '77920 ', 'L N':'JCKSON' ,'F N': 'MICHEL','HIRE DATA': '11-29-997' }\n",
        "employee2 ={'ID': '77921 ', 'L N':'JCKSON' ,'F N': 'MICHEL','HIRE DATA': '11-299-97' }\n",
        "employee3 ={'ID': '77921 ', 'L N':'JCKSON' ,'F N': 'MICHEL','HIRE DATA': '11-299-97' }\n",
        "\n",
        "employee4 ={'ID': '77921 ', 'L N':'JCKSON' ,'F N': 'MICHEL','HIRE DATA': '11-299-97' }\n",
        "\n",
        "\n",
        "employee5={'ID': '77921 ', 'L N':'JCKSON' ,'F N': 'MICHEL','HIRE DATA': '11-299-97' }\n",
        "\n",
        "\n"
      ],
      "execution_count": null,
      "outputs": []
    },
    {
      "cell_type": "code",
      "metadata": {
        "id": "NVTmw0l9gneb",
        "colab_type": "code",
        "colab": {}
      },
      "source": [
        ""
      ],
      "execution_count": null,
      "outputs": []
    },
    {
      "cell_type": "code",
      "metadata": {
        "id": "1glyh7QTdYqF",
        "colab_type": "code",
        "colab": {}
      },
      "source": [
        ""
      ],
      "execution_count": null,
      "outputs": []
    },
    {
      "cell_type": "markdown",
      "metadata": {
        "id": "8PWhTeardLHd",
        "colab_type": "text"
      },
      "source": [
        ""
      ]
    },
    {
      "cell_type": "markdown",
      "metadata": {
        "id": "mZV5mKzodLKd",
        "colab_type": "text"
      },
      "source": [
        ""
      ]
    }
  ]
}