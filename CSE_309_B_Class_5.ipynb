{
  "nbformat": 4,
  "nbformat_minor": 0,
  "metadata": {
    "colab": {
      "name": "CSE_309_B_Class_5.ipynb",
      "provenance": [],
      "collapsed_sections": [],
      "include_colab_link": true
    },
    "kernelspec": {
      "name": "python3",
      "display_name": "Python 3"
    }
  },
  "cells": [
    {
      "cell_type": "markdown",
      "metadata": {
        "id": "view-in-github",
        "colab_type": "text"
      },
      "source": [
        "<a href=\"https://colab.research.google.com/github/mohammad0076/cse_python_309_B/blob/master/CSE_309_B_Class_5.ipynb\" target=\"_parent\"><img src=\"https://colab.research.google.com/assets/colab-badge.svg\" alt=\"Open In Colab\"/></a>"
      ]
    },
    {
      "cell_type": "markdown",
      "metadata": {
        "id": "Cwx7oIrV9zlR",
        "colab_type": "text"
      },
      "source": [
        "# LOOP"
      ]
    },
    {
      "cell_type": "markdown",
      "metadata": {
        "id": "LdJOOb6594Gx",
        "colab_type": "text"
      },
      "source": [
        "Java loop\n",
        "\n",
        "0, 1, 2, 3, 4, 5, 6, 7, 8, 9\n",
        "\n",
        "```\n",
        "for (int i=0; i<10; i++) {\n",
        "  System.out.println(i);\n",
        "}\n",
        "\n",
        "\n",
        "int i=0;\n",
        "while ( i<10 ) {\n",
        "  printf(\"%d\", i);\n",
        "  i++;\n",
        "}\n",
        "\n",
        "```\n",
        "\n"
      ]
    },
    {
      "cell_type": "code",
      "metadata": {
        "id": "FUlEsnSs9nCa",
        "colab_type": "code",
        "colab": {
          "base_uri": "https://localhost:8080/",
          "height": 185
        },
        "outputId": "1f005f9c-3e19-4967-9288-9adc4becbeff"
      },
      "source": [
        "i=0\n",
        "while i<10 : \n",
        "  print(i)\n",
        "  i+=1"
      ],
      "execution_count": null,
      "outputs": [
        {
          "output_type": "stream",
          "text": [
            "0\n",
            "1\n",
            "2\n",
            "3\n",
            "4\n",
            "5\n",
            "6\n",
            "7\n",
            "8\n",
            "9\n"
          ],
          "name": "stdout"
        }
      ]
    },
    {
      "cell_type": "code",
      "metadata": {
        "id": "WzXLDNwx_Tym",
        "colab_type": "code",
        "colab": {
          "base_uri": "https://localhost:8080/",
          "height": 34
        },
        "outputId": "35cbf65f-3231-434c-dff1-8222fc505798"
      },
      "source": [
        "i=0\n",
        "while i<10 : \n",
        "  print(i, end=' ')\n",
        "  i+=1"
      ],
      "execution_count": null,
      "outputs": [
        {
          "output_type": "stream",
          "text": [
            "0 1 2 3 4 5 6 7 8 9 "
          ],
          "name": "stdout"
        }
      ]
    },
    {
      "cell_type": "markdown",
      "metadata": {
        "id": "BNEXR4Ld_MzH",
        "colab_type": "text"
      },
      "source": [
        "1 + 2 + 3 + .... + 100 = 5050"
      ]
    },
    {
      "cell_type": "code",
      "metadata": {
        "id": "Ve8RC-nZ--8u",
        "colab_type": "code",
        "colab": {
          "base_uri": "https://localhost:8080/",
          "height": 34
        },
        "outputId": "549d2d85-d965-4ff5-9036-97afd6eb7123"
      },
      "source": [
        "i = 1\n",
        "sum = 0\n",
        "\n",
        "while i<=10 :\n",
        "  \n",
        "  if i == 10:\n",
        "    print(i, end=\" \")\n",
        "  else:\n",
        "    print(i, \"+ \", end=\"\")\n",
        "\n",
        "  sum = sum + i\n",
        "  i = i + 1\n",
        "\n",
        "print( \"=\", sum)"
      ],
      "execution_count": null,
      "outputs": [
        {
          "output_type": "stream",
          "text": [
            "1 + 2 + 3 + 4 + 5 + 6 + 7 + 8 + 9 + 10 = 55\n"
          ],
          "name": "stdout"
        }
      ]
    },
    {
      "cell_type": "markdown",
      "metadata": {
        "id": "8_GHTm-WBEvT",
        "colab_type": "text"
      },
      "source": [
        "**Range**"
      ]
    },
    {
      "cell_type": "code",
      "metadata": {
        "id": "G7y7m3x_BB0v",
        "colab_type": "code",
        "colab": {
          "base_uri": "https://localhost:8080/",
          "height": 34
        },
        "outputId": "f2607cc2-eaa3-4a85-e4d6-08acd6bb4b63"
      },
      "source": [
        "range(10)"
      ],
      "execution_count": null,
      "outputs": [
        {
          "output_type": "execute_result",
          "data": {
            "text/plain": [
              "range(0, 10)"
            ]
          },
          "metadata": {
            "tags": []
          },
          "execution_count": 20
        }
      ]
    },
    {
      "cell_type": "code",
      "metadata": {
        "id": "3XK__e6xBJzz",
        "colab_type": "code",
        "colab": {
          "base_uri": "https://localhost:8080/",
          "height": 34
        },
        "outputId": "ab1ad38a-ee7e-41ed-b29b-1506a2937c74"
      },
      "source": [
        "print(range(10))"
      ],
      "execution_count": null,
      "outputs": [
        {
          "output_type": "stream",
          "text": [
            "range(0, 10)\n"
          ],
          "name": "stdout"
        }
      ]
    },
    {
      "cell_type": "code",
      "metadata": {
        "id": "yCcRcYFmBMKl",
        "colab_type": "code",
        "colab": {
          "base_uri": "https://localhost:8080/",
          "height": 34
        },
        "outputId": "651df0b5-7a96-40d8-e5f2-f55dfbefb5a3"
      },
      "source": [
        "l = [range(10)]"
      ],
      "execution_count": null,
      "outputs": [
        {
          "output_type": "execute_result",
          "data": {
            "text/plain": [
              "[range(0, 10)]"
            ]
          },
          "metadata": {
            "tags": []
          },
          "execution_count": 23
        }
      ]
    },
    {
      "cell_type": "code",
      "metadata": {
        "id": "Z2uProbTBkM0",
        "colab_type": "code",
        "colab": {}
      },
      "source": [
        "range(start, end, increment)\n",
        "#for(i=start, i<end, i=i+increment)"
      ],
      "execution_count": null,
      "outputs": []
    },
    {
      "cell_type": "code",
      "metadata": {
        "id": "HXjENUZkBvPT",
        "colab_type": "code",
        "colab": {
          "base_uri": "https://localhost:8080/",
          "height": 34
        },
        "outputId": "79b0aa47-609f-40da-8a20-b44918520d99"
      },
      "source": [
        "for i in range(2, 10, 2):\n",
        "  print(i, end=\" \")"
      ],
      "execution_count": null,
      "outputs": [
        {
          "output_type": "stream",
          "text": [
            "2 4 6 8 "
          ],
          "name": "stdout"
        }
      ]
    },
    {
      "cell_type": "code",
      "metadata": {
        "id": "OWeFoSgeB_87",
        "colab_type": "code",
        "colab": {
          "base_uri": "https://localhost:8080/",
          "height": 34
        },
        "outputId": "76fc0659-b85c-4613-8ed6-6c81de1e3503"
      },
      "source": [
        "for i in range(2, 10):\n",
        "  print(i, end=\" \")"
      ],
      "execution_count": null,
      "outputs": [
        {
          "output_type": "stream",
          "text": [
            "2 3 4 5 6 7 8 9 "
          ],
          "name": "stdout"
        }
      ]
    },
    {
      "cell_type": "code",
      "metadata": {
        "id": "sbRgHmobCFoz",
        "colab_type": "code",
        "colab": {
          "base_uri": "https://localhost:8080/",
          "height": 34
        },
        "outputId": "4249749d-549d-4293-dd6a-0e49b6d0ed88"
      },
      "source": [
        "for i in range(10):\n",
        "  print(i, end=\" \")"
      ],
      "execution_count": null,
      "outputs": [
        {
          "output_type": "stream",
          "text": [
            "0 1 2 3 4 5 6 7 8 9 "
          ],
          "name": "stdout"
        }
      ]
    },
    {
      "cell_type": "markdown",
      "metadata": {
        "id": "uhSE6mZLCN5K",
        "colab_type": "text"
      },
      "source": [
        "1 + 2 + 3 + .... + 100 = 5050"
      ]
    },
    {
      "cell_type": "code",
      "metadata": {
        "id": "hCBmwaRSCNkT",
        "colab_type": "code",
        "colab": {
          "base_uri": "https://localhost:8080/",
          "height": 50
        },
        "outputId": "e1de8d74-cf65-44aa-ccc2-3e5876d3858d"
      },
      "source": [
        "limit = int(input(\"limit: \"))\n",
        "sum = 0\n",
        "\n",
        "for i in range(1, limit+1):\n",
        "  if i == limit:\n",
        "    print(i, end=\"\")\n",
        "  else:\n",
        "    print(i, \" +\", end=\" \")\n",
        "  sum = sum + i\n",
        "print(\" =\", sum)"
      ],
      "execution_count": null,
      "outputs": [
        {
          "output_type": "stream",
          "text": [
            "limit: 20\n",
            "1  + 2  + 3  + 4  + 5  + 6  + 7  + 8  + 9  + 10  + 11  + 12  + 13  + 14  + 15  + 16  + 17  + 18  + 19  + 20 = 210\n"
          ],
          "name": "stdout"
        }
      ]
    },
    {
      "cell_type": "markdown",
      "metadata": {
        "id": "UFC0YqrPDsv8",
        "colab_type": "text"
      },
      "source": [
        "2+4+6+...+limit = ?"
      ]
    },
    {
      "cell_type": "code",
      "metadata": {
        "id": "54q0nYKmDxTg",
        "colab_type": "code",
        "colab": {
          "base_uri": "https://localhost:8080/",
          "height": 50
        },
        "outputId": "3785328d-c686-4a44-b475-9f3f554576b1"
      },
      "source": [
        "limit = int(input(\"limit: \"))\n",
        "sum = 0\n",
        "\n",
        "for i in range(2, limit+1, 2):\n",
        "  if i == limit:\n",
        "    print(i, end=\"\")\n",
        "  else:\n",
        "    print(i, \" +\", end=\" \")\n",
        "  sum = sum + i\n",
        "print(\" =\", sum)"
      ],
      "execution_count": null,
      "outputs": [
        {
          "output_type": "stream",
          "text": [
            "limit: 20\n",
            "2  + 4  + 6  + 8  + 10  + 12  + 14  + 16  + 18  + 20 = 110\n"
          ],
          "name": "stdout"
        }
      ]
    },
    {
      "cell_type": "code",
      "metadata": {
        "id": "0Qvt-kfTENTi",
        "colab_type": "code",
        "colab": {
          "base_uri": "https://localhost:8080/",
          "height": 101
        },
        "outputId": "1756e5ee-8f3c-4ec1-db18-37489cf68cb5"
      },
      "source": [
        "l = [1, 4, \"A\", \"B\", 10.6]\n",
        "\n",
        "for i in l:\n",
        "  print(i)"
      ],
      "execution_count": null,
      "outputs": [
        {
          "output_type": "stream",
          "text": [
            "1\n",
            "4\n",
            "A\n",
            "B\n",
            "10.6\n"
          ],
          "name": "stdout"
        }
      ]
    },
    {
      "cell_type": "code",
      "metadata": {
        "id": "JbDpwv1aEZB3",
        "colab_type": "code",
        "colab": {
          "base_uri": "https://localhost:8080/",
          "height": 101
        },
        "outputId": "7a5c94a6-2448-4040-de20-9993b7328e07"
      },
      "source": [
        "i=0\n",
        "\n",
        "while i<len(l):\n",
        "  print(l[i])\n",
        "  i+=1"
      ],
      "execution_count": null,
      "outputs": [
        {
          "output_type": "stream",
          "text": [
            "1\n",
            "4\n",
            "A\n",
            "B\n",
            "10.6\n"
          ],
          "name": "stdout"
        }
      ]
    },
    {
      "cell_type": "code",
      "metadata": {
        "id": "aNyaLQBCFwAY",
        "colab_type": "code",
        "colab": {
          "base_uri": "https://localhost:8080/",
          "height": 128
        },
        "outputId": "f7f4e4e3-99bf-40cf-ac78-e3f2681199ef"
      },
      "source": [
        "i=0, j=1, k=19"
      ],
      "execution_count": null,
      "outputs": [
        {
          "output_type": "error",
          "ename": "SyntaxError",
          "evalue": "ignored",
          "traceback": [
            "\u001b[0;36m  File \u001b[0;32m\"<ipython-input-41-002a90aeaca7>\"\u001b[0;36m, line \u001b[0;32m1\u001b[0m\n\u001b[0;31m    i=0, j=1, k=19\u001b[0m\n\u001b[0m     ^\u001b[0m\n\u001b[0;31mSyntaxError\u001b[0m\u001b[0;31m:\u001b[0m can't assign to literal\n"
          ]
        }
      ]
    },
    {
      "cell_type": "code",
      "metadata": {
        "id": "_hFXAlgJGESu",
        "colab_type": "code",
        "colab": {}
      },
      "source": [
        "i, j, k = 0, 1, 2"
      ],
      "execution_count": null,
      "outputs": []
    },
    {
      "cell_type": "code",
      "metadata": {
        "id": "Uxj4XIrpGH6_",
        "colab_type": "code",
        "colab": {
          "base_uri": "https://localhost:8080/",
          "height": 34
        },
        "outputId": "daa9714e-50eb-4570-ea80-11e1d60c6f38"
      },
      "source": [
        "print(i, j, k)"
      ],
      "execution_count": null,
      "outputs": [
        {
          "output_type": "stream",
          "text": [
            "0 1 2\n"
          ],
          "name": "stdout"
        }
      ]
    }
  ]
}