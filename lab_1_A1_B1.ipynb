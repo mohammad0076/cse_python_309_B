{
  "nbformat": 4,
  "nbformat_minor": 0,
  "metadata": {
    "colab": {
      "name": "lab_1_A1_B1.ipynb",
      "provenance": [],
      "include_colab_link": true
    },
    "kernelspec": {
      "name": "python3",
      "display_name": "Python 3"
    }
  },
  "cells": [
    {
      "cell_type": "markdown",
      "metadata": {
        "id": "view-in-github",
        "colab_type": "text"
      },
      "source": [
        "<a href=\"https://colab.research.google.com/github/mohammad0076/cse_python_309_B/blob/master/lab_1_A1_B1.ipynb\" target=\"_parent\"><img src=\"https://colab.research.google.com/assets/colab-badge.svg\" alt=\"Open In Colab\"/></a>"
      ]
    },
    {
      "cell_type": "markdown",
      "metadata": {
        "id": "p0I4LsAQd-JQ",
        "colab_type": "text"
      },
      "source": [
        "# Python Introduction"
      ]
    },
    {
      "cell_type": "code",
      "metadata": {
        "id": "DuliYSj-dILZ",
        "colab_type": "code",
        "colab": {
          "base_uri": "https://localhost:8080/",
          "height": 34
        },
        "outputId": "ad3f5bc6-42c0-44ad-b397-2336598ca23f"
      },
      "source": [
        "print( \"Hello world\" ) "
      ],
      "execution_count": null,
      "outputs": [
        {
          "output_type": "stream",
          "text": [
            "Hello world\n"
          ],
          "name": "stdout"
        }
      ]
    },
    {
      "cell_type": "markdown",
      "metadata": {
        "id": "iLPFYpxCennW",
        "colab_type": "text"
      },
      "source": [
        "**Input**"
      ]
    },
    {
      "cell_type": "code",
      "metadata": {
        "id": "Awhi7_FFd9Gq",
        "colab_type": "code",
        "colab": {
          "base_uri": "https://localhost:8080/",
          "height": 50
        },
        "outputId": "243aa423-e06d-48eb-cef9-9dcfbab33877"
      },
      "source": [
        "a = input()\n",
        "type(a)"
      ],
      "execution_count": null,
      "outputs": [
        {
          "output_type": "stream",
          "text": [
            "10\n"
          ],
          "name": "stdout"
        },
        {
          "output_type": "execute_result",
          "data": {
            "text/plain": [
              "str"
            ]
          },
          "metadata": {
            "tags": []
          },
          "execution_count": 12
        }
      ]
    },
    {
      "cell_type": "code",
      "metadata": {
        "id": "16P2t_jjd9QN",
        "colab_type": "code",
        "colab": {
          "base_uri": "https://localhost:8080/",
          "height": 34
        },
        "outputId": "ed51a150-fe75-4cb9-b32e-82355ce00b15"
      },
      "source": [
        "print(a)"
      ],
      "execution_count": null,
      "outputs": [
        {
          "output_type": "stream",
          "text": [
            "10\n"
          ],
          "name": "stdout"
        }
      ]
    },
    {
      "cell_type": "markdown",
      "metadata": {
        "id": "79dtUWsQfCnH",
        "colab_type": "text"
      },
      "source": [
        "# Variable and data type"
      ]
    },
    {
      "cell_type": "code",
      "metadata": {
        "id": "kAuoQaxJfCFF",
        "colab_type": "code",
        "colab": {
          "base_uri": "https://localhost:8080/",
          "height": 34
        },
        "outputId": "e940c250-92d2-44b2-edc3-ee0d14bf0151"
      },
      "source": [
        "a = 10\n",
        "print(a, type(a))"
      ],
      "execution_count": null,
      "outputs": [
        {
          "output_type": "stream",
          "text": [
            "10 <class 'int'>\n"
          ],
          "name": "stdout"
        }
      ]
    },
    {
      "cell_type": "code",
      "metadata": {
        "id": "NuLfmermd9YX",
        "colab_type": "code",
        "colab": {
          "base_uri": "https://localhost:8080/",
          "height": 34
        },
        "outputId": "560fa436-ffcd-46bb-ca39-69e69967a9d2"
      },
      "source": [
        "b = 10.5\n",
        "print(b, type(b))"
      ],
      "execution_count": null,
      "outputs": [
        {
          "output_type": "stream",
          "text": [
            "10.5 <class 'float'>\n"
          ],
          "name": "stdout"
        }
      ]
    },
    {
      "cell_type": "code",
      "metadata": {
        "id": "TK1wxnygd9eS",
        "colab_type": "code",
        "colab": {
          "base_uri": "https://localhost:8080/",
          "height": 162
        },
        "outputId": "cf35cb84-ea47-45e8-dc7f-eda473f9cc3c"
      },
      "source": [
        "c "
      ],
      "execution_count": null,
      "outputs": [
        {
          "output_type": "error",
          "ename": "NameError",
          "evalue": "ignored",
          "traceback": [
            "\u001b[0;31m---------------------------------------------------------------------------\u001b[0m",
            "\u001b[0;31mNameError\u001b[0m                                 Traceback (most recent call last)",
            "\u001b[0;32m<ipython-input-7-07c005dd1e94>\u001b[0m in \u001b[0;36m<module>\u001b[0;34m()\u001b[0m\n\u001b[0;32m----> 1\u001b[0;31m \u001b[0mc\u001b[0m\u001b[0;34m\u001b[0m\u001b[0;34m\u001b[0m\u001b[0m\n\u001b[0m",
            "\u001b[0;31mNameError\u001b[0m: name 'c' is not defined"
          ]
        }
      ]
    },
    {
      "cell_type": "code",
      "metadata": {
        "id": "zy8KXelPgGvw",
        "colab_type": "code",
        "colab": {
          "base_uri": "https://localhost:8080/",
          "height": 34
        },
        "outputId": "57d37bee-647b-4b0f-ca87-a2e1e1aaafa5"
      },
      "source": [
        "d = \"This is a string\"\n",
        "print(d, type(d))"
      ],
      "execution_count": null,
      "outputs": [
        {
          "output_type": "stream",
          "text": [
            "This is a string <class 'str'>\n"
          ],
          "name": "stdout"
        }
      ]
    },
    {
      "cell_type": "code",
      "metadata": {
        "id": "dl5NCRzNgSbc",
        "colab_type": "code",
        "colab": {
          "base_uri": "https://localhost:8080/",
          "height": 128
        },
        "outputId": "b7b665e9-440a-4544-f633-53f86c598cda"
      },
      "source": [
        "1var = 100 "
      ],
      "execution_count": null,
      "outputs": [
        {
          "output_type": "error",
          "ename": "SyntaxError",
          "evalue": "ignored",
          "traceback": [
            "\u001b[0;36m  File \u001b[0;32m\"<ipython-input-9-a97a28728840>\"\u001b[0;36m, line \u001b[0;32m1\u001b[0m\n\u001b[0;31m    1var = 100\u001b[0m\n\u001b[0m       ^\u001b[0m\n\u001b[0;31mSyntaxError\u001b[0m\u001b[0;31m:\u001b[0m invalid syntax\n"
          ]
        }
      ]
    },
    {
      "cell_type": "code",
      "metadata": {
        "id": "4wIty3W0hueu",
        "colab_type": "code",
        "colab": {
          "base_uri": "https://localhost:8080/",
          "height": 34
        },
        "outputId": "4c83a197-e7bb-451a-9e1c-d1a5451821d5"
      },
      "source": [
        "1001"
      ],
      "execution_count": null,
      "outputs": [
        {
          "output_type": "execute_result",
          "data": {
            "text/plain": [
              "1001"
            ]
          },
          "metadata": {
            "tags": []
          },
          "execution_count": 10
        }
      ]
    },
    {
      "cell_type": "markdown",
      "metadata": {
        "id": "UgJ5A6mPh86M",
        "colab_type": "text"
      },
      "source": [
        "**Simple Program**"
      ]
    },
    {
      "cell_type": "code",
      "metadata": {
        "id": "WtVZkbiWiAQq",
        "colab_type": "code",
        "colab": {
          "base_uri": "https://localhost:8080/",
          "height": 67
        },
        "outputId": "e62e70b2-8459-42c9-ce76-3e15b1f78453"
      },
      "source": [
        "# This is a comment\n",
        "# Take two str inputs and concatenate them.\n",
        "\n",
        "a = input()\n",
        "b = input()\n",
        "sum = a + b \n",
        "print(sum)"
      ],
      "execution_count": null,
      "outputs": [
        {
          "output_type": "stream",
          "text": [
            "This is a\n",
            " cat\n",
            "This is a cat\n"
          ],
          "name": "stdout"
        }
      ]
    },
    {
      "cell_type": "code",
      "metadata": {
        "id": "2iTKZQe9iz-v",
        "colab_type": "code",
        "colab": {
          "base_uri": "https://localhost:8080/",
          "height": 67
        },
        "outputId": "efc18360-b152-4d5c-df60-e253eab29bf2"
      },
      "source": [
        "# This is a comment\n",
        "# Take two integer inputs and sum them.\n",
        "\n",
        "a = int( input(\"Input 1: \") )\n",
        "b = int( input(\"Input 2: \") )\n",
        "sum = a + b \n",
        "print(\"ans: \" , sum)"
      ],
      "execution_count": null,
      "outputs": [
        {
          "output_type": "stream",
          "text": [
            "Input 1: 10\n",
            "Input 2: 20\n",
            "ans:  30\n"
          ],
          "name": "stdout"
        }
      ]
    },
    {
      "cell_type": "code",
      "metadata": {
        "id": "NY6As0CLjHA9",
        "colab_type": "code",
        "colab": {
          "base_uri": "https://localhost:8080/",
          "height": 84
        },
        "outputId": "1b29fc2f-27bc-4b88-d403-08f4bee5320a"
      },
      "source": [
        "# take 3 integer inputs and average them and show output in integer format.\n",
        "\n",
        "a = int( input(\"Input 1: \") )\n",
        "b = int( input(\"Input 2: \") )\n",
        "c = int( input(\"Input 3: \") )\n",
        "\n",
        "sum = a + b + c\n",
        "avg = sum // 3\n",
        "\n",
        "print(\"Avg: \" , avg)"
      ],
      "execution_count": null,
      "outputs": [
        {
          "output_type": "stream",
          "text": [
            "Input 1: 10\n",
            "Input 2: 5\n",
            "Input 3: 5\n",
            "Avg:  6\n"
          ],
          "name": "stdout"
        }
      ]
    },
    {
      "cell_type": "code",
      "metadata": {
        "id": "Luf6Yb75p49f",
        "colab_type": "code",
        "colab": {
          "base_uri": "https://localhost:8080/",
          "height": 34
        },
        "outputId": "549cd54b-d815-4654-c3b8-5717e7a55fca"
      },
      "source": [
        "5%2"
      ],
      "execution_count": null,
      "outputs": [
        {
          "output_type": "execute_result",
          "data": {
            "text/plain": [
              "1"
            ]
          },
          "metadata": {
            "tags": []
          },
          "execution_count": 26
        }
      ]
    }
  ]
}